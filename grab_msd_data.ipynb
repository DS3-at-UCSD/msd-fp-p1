{
 "cells": [
  {
   "cell_type": "markdown",
   "metadata": {},
   "source": [
    "# Data Wrangling"
   ]
  },
  {
   "cell_type": "code",
   "execution_count": 1,
   "metadata": {
    "collapsed": false
   },
   "outputs": [
    {
     "name": "stdout",
     "output_type": "stream",
     "text": [
      "0.15.1\n"
     ]
    }
   ],
   "source": [
    "import os\n",
    "import sys\n",
    "import glob\n",
    "import datetime\n",
    "import sqlite3\n",
    "import numpy as np\n",
    "import pandas as pd\n",
    "import matplotlib as mpl\n",
    "import matplotlib.pyplot as plt\n",
    "import seaborn as sns\n",
    "from pandas import Series, DataFrame\n",
    "from IPython.display import Image, HTML\n",
    "from scipy import stats\n",
    "\n",
    "%matplotlib inline\n",
    "pd.options.display.mpl_style = 'default'\n",
    "plt.style.use('ggplot')\n",
    "\n",
    "print pd.__version__\n",
    "\n",
    "%load_ext rpy2.ipython"
   ]
  },
  {
   "cell_type": "markdown",
   "metadata": {},
   "source": [
    "# Addition Files contains Year (515576 songs for full 300GB, 4680 for 1.8GB subset)"
   ]
  },
  {
   "cell_type": "code",
   "execution_count": 2,
   "metadata": {
    "collapsed": false
   },
   "outputs": [
    {
     "data": {
      "text/html": [
       "<iframe src='http://labrosa.ee.columbia.edu/millionsong/pages/getting-dataset' width=1000 height=333></iframe>"
      ],
      "text/plain": [
       "<IPython.core.display.HTML object>"
      ]
     },
     "execution_count": 2,
     "metadata": {},
     "output_type": "execute_result"
    }
   ],
   "source": [
    "getting_data_url = 'http://labrosa.ee.columbia.edu/millionsong/pages/getting-dataset'\n",
    "HTML(\"<iframe src='%s' width=1000 height=333></iframe>\"%getting_data_url)"
   ]
  },
  {
   "cell_type": "markdown",
   "metadata": {},
   "source": [
    "# Text files in Additional Files directory"
   ]
  },
  {
   "cell_type": "code",
   "execution_count": 2,
   "metadata": {
    "collapsed": false
   },
   "outputs": [
    {
     "data": {
      "text/plain": [
       "['/media/1ADF-0E69/msong/MillionSongSubset/AdditionalFiles/mxm_reverse_mapping.txt',\n",
       " '/media/1ADF-0E69/msong/MillionSongSubset/AdditionalFiles/subset_artist_location.txt',\n",
       " '/media/1ADF-0E69/msong/MillionSongSubset/AdditionalFiles/subset_tracks_per_year.txt',\n",
       " '/media/1ADF-0E69/msong/MillionSongSubset/AdditionalFiles/subset_unique_artists.txt',\n",
       " '/media/1ADF-0E69/msong/MillionSongSubset/AdditionalFiles/subset_unique_mbtags.txt',\n",
       " '/media/1ADF-0E69/msong/MillionSongSubset/AdditionalFiles/subset_unique_terms.txt',\n",
       " '/media/1ADF-0E69/msong/MillionSongSubset/AdditionalFiles/subset_unique_tracks.txt']"
      ]
     },
     "execution_count": 2,
     "metadata": {},
     "output_type": "execute_result"
    }
   ],
   "source": [
    "txt_files = !ls /media/1ADF-0E69/msong/MillionSongSubset/AdditionalFiles/*txt\n",
    "txt_files"
   ]
  },
  {
   "cell_type": "code",
   "execution_count": 6,
   "metadata": {
    "collapsed": false
   },
   "outputs": [
    {
     "name": "stdout",
     "output_type": "stream",
     "text": [
      "/media/1ADF-0E69/msong/MillionSongSubset/AdditionalFiles/mxm_reverse_mapping.txt\n",
      "[   'd\\xc3\\xada<SEP>d\\xc3\\xada',\n",
      "    'pido<SEP>pido',\n",
      "    'hatr<SEP>hatred',\n",
      "    'pide<SEP>pide',\n",
      "    'yellow<SEP>yellow',\n",
      "    'four<SEP>four',\n",
      "    'sleev<SEP>sleeve',\n",
      "    'sleep<SEP>sleep',\n",
      "    'thirst<SEP>thirst',\n",
      "    'upsid<SEP>upside']\n",
      "\n",
      "\n",
      "\n",
      "/media/1ADF-0E69/msong/MillionSongSubset/AdditionalFiles/subset_artist_location.txt\n",
      "[   'AR00A6H1187FB5402A<SEP>42.73383<SEP>-84.59334<SEP>TRAKWGL12903CB8529<SEP>The Meatmen',\n",
      "    'AR00MBZ1187B9B5DB1<SEP>29.95244<SEP>-90.05202<SEP>TRAFCPP128F426EC01<SEP>Memphis Minnie',\n",
      "    'AR01IP11187B9AF5D2<SEP>28.33268<SEP>-80.73486<SEP>TRAZNKG12903CDCF8A<SEP>Call To Preserve',\n",
      "    'AR01VU31187B997DA0<SEP>43.0026<SEP>-83.7826<SEP>TRAKZMB128F427B44F<SEP>Grand Funk',\n",
      "    'AR01W2D1187FB5912F<SEP>40.01574<SEP>-105.27924<SEP>TRASHYD128F93119EE<SEP>3OH!3',\n",
      "    'AR022JO1187B99587B<SEP>0.10974<SEP>113.9174<SEP>TRAHSJR12903CBF093<SEP>Ross',\n",
      "    'AR02YGA1187B9B8AC4<SEP>-34.60852<SEP>-58.37354<SEP>TRACFXL128F930B28B<SEP>Bersuit Vergarabat',\n",
      "    'AR035N21187FB3938E<SEP>34.23294<SEP>-102.4102<SEP>TRAHXMC128F4267B70<SEP>BT',\n",
      "    'AR03BDP1187FB5B324<SEP>34.05349<SEP>-118.24532<SEP>TRACYCJ128F9309246<SEP>Britney Spears',\n",
      "    'AR048JZ1187B9AEB85<SEP>30.33138<SEP>-81.6558<SEP>TRAUWFN128F1462E09<SEP>Yellowcard']\n",
      "\n",
      "\n",
      "\n",
      "/media/1ADF-0E69/msong/MillionSongSubset/AdditionalFiles/subset_tracks_per_year.txt\n",
      "[   '1926<SEP>TRBHUOU128F423625E<SEP>Blind Lemon Jefferson<SEP>Long Lonesome Blues',\n",
      "    '1926<SEP>TRBFMCN128F423625D<SEP>Blind Lemon Jefferson<SEP>Got The Blues',\n",
      "    '1927<SEP>TRAUSMF12903CE71E5<SEP>Blind Lemon Jefferson<SEP>Wartime Blues',\n",
      "    '1927<SEP>TRAGJGZ128F421EE19<SEP>Blind Willie McTell<SEP>Writing Paper Blues',\n",
      "    \"1927<SEP>TRACBWQ128F92F2B91<SEP>Ma Rainey<SEP>Ma Rainey's Black Bottom\",\n",
      "    '1929<SEP>TRAYUWU128F423F66D<SEP>Charley Patton<SEP>Mississippi Boweavil Blues',\n",
      "    '1930<SEP>TRACMPZ12903CF150B<SEP>Charley Patton<SEP>Moon Going Down',\n",
      "    '1930<SEP>TRAFMDA128F4224347<SEP>Sleepy John Estes<SEP>Street Car Blues',\n",
      "    '1934<SEP>TRAPTGG128F9326020<SEP>Charlie Patton<SEP>34 Blues',\n",
      "    '1935<SEP>TRAUCPI128F4224350<SEP>Sleepy John Estes<SEP>Stop That Thing']\n",
      "\n",
      "\n",
      "\n",
      "/media/1ADF-0E69/msong/MillionSongSubset/AdditionalFiles/subset_unique_artists.txt\n",
      "[   'AR009211187B989185<SEP>9dfe78a6-6d91-454e-9b95-9d7722cbc476<SEP>TRAWSCW12903CD6C7E<SEP>Carroll Thompson',\n",
      "    'AR00A6H1187FB5402A<SEP>312c14d9-7897-4608-944a-c5b1c76ae682<SEP>TRAKWGL12903CB8529<SEP>The Meatmen',\n",
      "    'AR00LNI1187FB444A5<SEP>7e836d29-fc2d-4a1f-b8da-566d47c49eed<SEP>TRAHVYQ128F429826B<SEP>Bruce BecVar',\n",
      "    'AR00MBZ1187B9B5DB1<SEP>ff748426-8873-4725-bdc7-c2b18b510d41<SEP>TRAFCPP128F426EC01<SEP>Memphis Minnie',\n",
      "    'AR01IP11187B9AF5D2<SEP>dbd2ebce-623d-4639-946e-c558bf56a0e3<SEP>TRAZNKG12903CDCF8A<SEP>Call To Preserve',\n",
      "    'AR01VU31187B997DA0<SEP>103241b0-6adf-4b4f-9cff-5c87459f61a4<SEP>TRAKZMB128F427B44F<SEP>Grand Funk',\n",
      "    'AR01W2D1187FB5912F<SEP>125948ec-7f91-4d1a-8b83-accbf50fae3d<SEP>TRASHYD128F93119EE<SEP>3OH!3',\n",
      "    'AR022JO1187B99587B<SEP>9538ab80-dcbf-4b94-a0cf-e5d1fbbc42c9<SEP>TRAHSJR12903CBF093<SEP>Ross',\n",
      "    'AR02DB61187B9A0B5E<SEP>bf035517-124e-409b-90f5-35618081a332<SEP>TRBANKK12903CDA071<SEP>Annie Philippe',\n",
      "    'AR02IU11187FB513F2<SEP>f19ad155-d809-4770-ab8d-7579467d9f55<SEP>TRAJFCC12903CC55AD<SEP>Tito Puente']\n",
      "\n",
      "\n",
      "\n",
      "/media/1ADF-0E69/msong/MillionSongSubset/AdditionalFiles/subset_unique_mbtags.txt\n",
      "[   '00s',\n",
      "    '1 13 165900 150 7672 22647 34612 48720 59280 74602 87545 95495 107182 131087 141522 153710',\n",
      "    '1 7 186240 183 23558 41608 89158 111733 150833 169883',\n",
      "    '10s',\n",
      "    '1960s',\n",
      "    '1970s',\n",
      "    '1980s',\n",
      "    '1990s',\n",
      "    '2000s',\n",
      "    '2005']\n",
      "\n",
      "\n",
      "\n",
      "/media/1ADF-0E69/msong/MillionSongSubset/AdditionalFiles/subset_unique_terms.txt\n",
      "[   '00s',\n",
      "    '00s country',\n",
      "    '00s pop',\n",
      "    '1800s',\n",
      "    '1910s',\n",
      "    '1960s soul',\n",
      "    '1970s soul',\n",
      "    '19th century',\n",
      "    '19th century classical',\n",
      "    '19th century opera']\n",
      "\n",
      "\n",
      "\n",
      "/media/1ADF-0E69/msong/MillionSongSubset/AdditionalFiles/subset_unique_tracks.txt\n",
      "[   \"TRAAAAW128F429D538<SEP>SOMZWCG12A8C13C480<SEP>Casual<SEP>I Didn't Mean To\",\n",
      "    'TRAAABD128F429CF47<SEP>SOCIWDW12A8C13D406<SEP>The Box Tops<SEP>Soul Deep',\n",
      "    'TRAAADZ128F9348C2E<SEP>SOXVLOJ12AB0189215<SEP>Sonora Santanera<SEP>Amor De Cabaret',\n",
      "    'TRAAAEF128F4273421<SEP>SONHOTT12A8C13493C<SEP>Adam Ant<SEP>Something Girls',\n",
      "    'TRAAAFD128F92F423A<SEP>SOFSOCN12A8C143F5D<SEP>Gob<SEP>Face the Ashes',\n",
      "    'TRAAAMO128F1481E7F<SEP>SOYMRWW12A6D4FAB14<SEP>Jeff And Sheri Easter<SEP>The Moon And I (Ordinary Day Album Version)',\n",
      "    'TRAAAMQ128F1460CD3<SEP>SOMJBYD12A6D4F8557<SEP>Rated R<SEP>Keepin It Real (Skit)',\n",
      "    'TRAAAPK128E0786D96<SEP>SOHKNRJ12A6701D1F8<SEP>Tweeterfriendly Music<SEP>Drop of Rain',\n",
      "    'TRAAARJ128F9320760<SEP>SOIAZJW12AB01853F1<SEP>Planet P Project<SEP>Pink World',\n",
      "    'TRAAAVG12903CFA543<SEP>SOUDSGM12AC9618304<SEP>Clp<SEP>Insatiable (Instrumental Version)']\n",
      "\n",
      "\n",
      "\n"
     ]
    }
   ],
   "source": [
    "import pprint\n",
    "\n",
    "pp = pprint.PrettyPrinter(indent=4)\n",
    "\n",
    "for f in txt_files:\n",
    "    print f\n",
    "    preview = !head $f\n",
    "    pp.pprint(preview)\n",
    "    print '\\n\\n'"
   ]
  },
  {
   "cell_type": "markdown",
   "metadata": {},
   "source": [
    "# Database DB SQLite3 files in Additional Files directory"
   ]
  },
  {
   "cell_type": "code",
   "execution_count": 8,
   "metadata": {
    "collapsed": false
   },
   "outputs": [
    {
     "data": {
      "text/plain": [
       "['/media/1ADF-0E69/msong/MillionSongSubset/AdditionalFiles/mxm_dataset.db',\n",
       " '/media/1ADF-0E69/msong/MillionSongSubset/AdditionalFiles/subset_artist_similarity.db',\n",
       " '/media/1ADF-0E69/msong/MillionSongSubset/AdditionalFiles/subset_artist_term.db',\n",
       " '/media/1ADF-0E69/msong/MillionSongSubset/AdditionalFiles/subset_metadata.db',\n",
       " '/media/1ADF-0E69/msong/MillionSongSubset/AdditionalFiles/subset_track_metadata.db']"
      ]
     },
     "execution_count": 8,
     "metadata": {},
     "output_type": "execute_result"
    }
   ],
   "source": [
    "db_files = !ls /media/1ADF-0E69/msong/MillionSongSubset/AdditionalFiles/*db\n",
    "db_files"
   ]
  },
  {
   "cell_type": "markdown",
   "metadata": {},
   "source": [
    "# Lyrics Dataset musiXmatch"
   ]
  },
  {
   "cell_type": "code",
   "execution_count": 10,
   "metadata": {
    "collapsed": false
   },
   "outputs": [
    {
     "data": {
      "text/html": [
       "<iframe src='http://labrosa.ee.columbia.edu/millionsong/blog/11-4-11-musixmatch-dataset-connecting-lyrics' width=1000 height=333></iframe>"
      ],
      "text/plain": [
       "<IPython.core.display.HTML object>"
      ]
     },
     "execution_count": 10,
     "metadata": {},
     "output_type": "execute_result"
    }
   ],
   "source": [
    "getting_lyrics_url = 'http://labrosa.ee.columbia.edu/millionsong/blog/11-4-11-musixmatch-dataset-connecting-lyrics'\n",
    "HTML(\"<iframe src='%s' width=1000 height=333></iframe>\"%getting_lyrics_url)"
   ]
  },
  {
   "cell_type": "markdown",
   "metadata": {},
   "source": [
    "# Local Path Setup"
   ]
  },
  {
   "cell_type": "code",
   "execution_count": 2,
   "metadata": {
    "collapsed": false
   },
   "outputs": [],
   "source": [
    "msd_subset_path = os.path.join('/media/1ADF-0E69/msong', 'MillionSongSubset')\n",
    "msd_subset_data_path = os.path.join(msd_subset_path, 'data')\n",
    "msd_subset_addf_path = os.path.join(msd_subset_path, 'AdditionalFiles')\n",
    "assert os.path.isdir(msd_subset_path), 'wrong_path'\n",
    "msd_code_path = os.path.join('/media/1ADF-0E69/msong', 'MSongsDB')\n",
    "assert os.path.isdir(msd_code_path)\n",
    "\n",
    "sys.path.append(os.path.join(msd_code_path, 'PythonSrc'))\n",
    "import hdf5_getters as GETTERS\n",
    "\n",
    "subset_tracks_per_year_path = os.path.join(msd_subset_addf_path, 'subset_tracks_per_year.txt')\n",
    "tracks_per_year_path = os.path.join('/media/1ADF-0E69/msong', 'tracks_per_year.txt')"
   ]
  },
  {
   "cell_type": "markdown",
   "metadata": {},
   "source": [
    "#Create Custom Year Extended Dataset"
   ]
  },
  {
   "cell_type": "code",
   "execution_count": 28,
   "metadata": {
    "collapsed": false
   },
   "outputs": [
    {
     "name": "stdout",
     "output_type": "stream",
     "text": [
      "1922<SEP>TRSGHLU128F421DF83<SEP>Alberta Hunter<SEP>Don't Pan Me\r\n",
      "1922<SEP>TRMYDFV128F42511FC<SEP>Barrington Levy<SEP>Warm And Sunny Day\r\n",
      "1922<SEP>TRRAHXQ128F42511FF<SEP>Barrington Levy<SEP>Looking My Love\r\n",
      "1922<SEP>TRFAFTK12903CC77B8<SEP>Barrington Levy<SEP>Warm And Sunny Day\r\n",
      "1922<SEP>TRSTBUY128F4251203<SEP>Barrington Levy<SEP>Mandela You're Free\r\n",
      "1922<SEP>TRODGCA128F4251206<SEP>Barrington Levy<SEP>Something In My Heart (Full Vocal)\r\n",
      "1924<SEP>TRLOZBM128F4280BF6<SEP>Papa Charlie Jackson<SEP>Airy Man Blues\r\n",
      "1924<SEP>TRZCBEO128F4285118<SEP>Vernon Dalhart<SEP>Wreck Of The Old 97\r\n",
      "1924<SEP>TRTRZWN128F4285110<SEP>Vernon Dalhart<SEP>The Prisoner's Song\r\n",
      "1924<SEP>TRTRKSF12903CFEDD7<SEP>Vernon Dalhart<SEP>Wreck Of The Old 97\r\n",
      "515576 /media/1ADF-0E69/msong/tracks_per_year.txt\r\n"
     ]
    }
   ],
   "source": [
    "!head $tracks_per_year_path ; wc -l $tracks_per_year_path"
   ]
  },
  {
   "cell_type": "code",
   "execution_count": 3,
   "metadata": {
    "collapsed": false
   },
   "outputs": [],
   "source": [
    "def trackid_to_filepath(track_id):\n",
    "    topdir = track_id[2]\n",
    "    subdir = track_id[3]\n",
    "    subsubdir = track_id[4]\n",
    "    \n",
    "    track_filepath = os.path.join(msd_subset_data_path,\n",
    "                                  os.path.join(topdir,\n",
    "                                               os.path.join(subdir,\n",
    "                                                            os.path.join(subsubdir, track_id + '.h5'))))\n",
    "    return track_filepath\n",
    "\n",
    "def get_timbre_avg(timbre_12_segment_matrix):\n",
    "    return list(np.mean(timbre_12_segment_matrix, axis=0))\n",
    "\n",
    "def get_pitch_avg(pitch_12_segment_matrix):\n",
    "    return list(np.mean(pitch_12_segment_matrix, axis=0))\n",
    "\n",
    "def get_record_line_string_by_grabbing_fields_from_h5(h5, year='', track_id='', artist_name='', title=''):\n",
    "    yr = GETTERS.get_year(h5) if not year else year\n",
    "    tid = GETTERS.get_track_id(h5) if not track_id else track_id\n",
    "    aname = GETTERS.get_artist_name(h5) if not artist_name else artist_name\n",
    "    ttitle = GETTERS.get_title(h5) if not title else title\n",
    "    timbre_avg = get_timbre_avg(GETTERS.get_segments_timbre(h5))\n",
    "    lat = GETTERS.get_artist_latitude(h5)\n",
    "    lon = GETTERS.get_artist_longitude(h5)\n",
    "    fam = GETTERS.get_artist_familiarity(h5)\n",
    "    hot = GETTERS.get_artist_hotttnesss(h5)\n",
    "    mbtags = GETTERS.get_artist_mbtags(h5)\n",
    "    terms = GETTERS.get_artist_terms(h5)\n",
    "    dance = GETTERS.get_danceability(h5)\n",
    "    duration = GETTERS.get_duration(h5)\n",
    "    energy = GETTERS.get_energy(h5)\n",
    "    loudness = GETTERS.get_loudness(h5)\n",
    "    mode = GETTERS.get_mode(h5)\n",
    "    song_hotness = GETTERS.get_song_hotttnesss(h5)\n",
    "    tempo = GETTERS.get_tempo(h5)\n",
    "    release = GETTERS.get_release(h5)\n",
    "    pitch_avg = get_pitch_avg(GETTERS.get_segments_pitches(h5))\n",
    "    record = [yr, tid, aname, ttitle] + timbre_avg + [lat,lon, fam,\n",
    "                                                      hot, mbtags, terms,\n",
    "                                                      dance, duration, energy,\n",
    "                                                      loudness, mode, song_hotness,\n",
    "                                                      tempo, release] + pitch_avg\n",
    "    record_as_delimited_string = '<SEP>'.join(map(str,record))\n",
    "    h5.close()\n",
    "    \n",
    "    return record_as_delimited_string.replace('\\n', ' ')\n",
    "\n",
    "def create_extended_year_dataset_and_write_to_file(fname='tracks_per_year_extended.txt', overwrite=True):\n",
    "    if os.path.isfile(fname) and overwrite:\n",
    "        !rm $fname\n",
    "        !rm tracks_out_of_subset.txt\n",
    "        !touch $fname\n",
    "        !touch tracks_out_of_subset.txt\n",
    "        \n",
    "    outfile = open(fname,'w')\n",
    "        \n",
    "    fields = ['year',\n",
    "              'track_id',\n",
    "              'artist_name',\n",
    "              'title',\n",
    "              'timbre_avg1_loudness',\n",
    "              'timbre_avg2_brightness',\n",
    "              'timbre_avg3_flatness',\n",
    "              'timbre_avg4_attack',\n",
    "              'timbre_avg5',\n",
    "              'timbre_avg6',\n",
    "              'timbre_avg7',\n",
    "              'timbre_avg8',\n",
    "              'timbre_avg9',\n",
    "              'timbre_avg10',\n",
    "              'timbre_avg11',\n",
    "              'timbre_avg12',\n",
    "              'artist_latitude',\n",
    "              'artist_longitude',\n",
    "              'artist_familiarity',\n",
    "              'artist_hotttnesss',\n",
    "              'artist_mbtags',\n",
    "              'artist_terms',\n",
    "              'danceability',\n",
    "              'duration',\n",
    "              'energy',\n",
    "              'loudness',\n",
    "              'mode',\n",
    "              'song_hotttnesss',\n",
    "              'tempo',\n",
    "              'release',\n",
    "              'pitch_avg1',\n",
    "              'pitch_avg2',\n",
    "              'pitch_avg3',\n",
    "              'pitch_avg4',\n",
    "              'pitch_avg5',\n",
    "              'pitch_avg6',\n",
    "              'pitch_avg7',\n",
    "              'pitch_avg8',\n",
    "              'pitch_avg9',\n",
    "              'pitch_avg10',\n",
    "              'pitch_avg11',\n",
    "              'pitch_avg12']\n",
    "    \n",
    "    fields_as_sep_delimited_string = '<SEP>'.join(fields)\n",
    "    outfile.write(fields_as_sep_delimited_string + '\\n')\n",
    "               \n",
    "    with open(tracks_per_year_path, 'r') as f:\n",
    "        for line in f:\n",
    "            year, track_id, artist_name, title = line.split('<SEP>')\n",
    "            path = trackid_to_filepath(track_id)\n",
    "            \n",
    "            if os.path.isfile(path):\n",
    "                h5 = GETTERS.open_h5_file_read(path)\n",
    "                outfile.write(get_record_line_string_by_grabbing_fields_from_h5(h5) + '\\n')\n",
    "            else:\n",
    "                !echo $track_id >> tracks_out_of_subset.txt\n",
    "                \n",
    "        outfile.close()"
   ]
  },
  {
   "cell_type": "markdown",
   "metadata": {},
   "source": [
    "Rewriting Header in CSV files"
   ]
  },
  {
   "cell_type": "code",
   "execution_count": 10,
   "metadata": {
    "collapsed": true
   },
   "outputs": [],
   "source": [
    "def replace_first_line(src_filename, target_filename, replacement_line):\n",
    "    f = open(src_filename)\n",
    "    first_line, remainder = f.readline(), f.read()\n",
    "    t = open(target_filename,\"w\")\n",
    "    t.write(replacement_line + \"\\n\")\n",
    "    t.write(remainder)\n",
    "    t.close()"
   ]
  },
  {
   "cell_type": "markdown",
   "metadata": {},
   "source": [
    "# Field List"
   ]
  },
  {
   "cell_type": "code",
   "execution_count": 64,
   "metadata": {
    "collapsed": false
   },
   "outputs": [
    {
     "data": {
      "text/html": [
       "<iframe src='http://labrosa.ee.columbia.edu/millionsong/pages/field-list' width=1000 height=333></iframe>"
      ],
      "text/plain": [
       "<IPython.core.display.HTML object>"
      ]
     },
     "execution_count": 64,
     "metadata": {},
     "output_type": "execute_result"
    }
   ],
   "source": [
    "field_list_url_src = 'http://labrosa.ee.columbia.edu/millionsong/pages/field-list'\n",
    "HTML(\"<iframe src='%s' width=1000 height=333></iframe>\"%field_list_url_src)"
   ]
  },
  {
   "cell_type": "markdown",
   "metadata": {},
   "source": [
    "# Run Dataset Creation Code"
   ]
  },
  {
   "cell_type": "code",
   "execution_count": 9,
   "metadata": {
    "collapsed": false
   },
   "outputs": [
    {
     "name": "stdout",
     "output_type": "stream",
     "text": [
      "rm: cannot remove `tracks_out_of_subset.txt': No such file or directory\n",
      "CPU times: user 22min 40s, sys: 1h 30min 32s, total: 1h 53min 13s\n",
      "Wall time: 18h 8min 19s\n"
     ]
    }
   ],
   "source": [
    "%time create_extended_year_dataset_and_write_to_file()"
   ]
  },
  {
   "cell_type": "markdown",
   "metadata": {},
   "source": [
    "# Link Tracks per Year and UCI Datasets"
   ]
  },
  {
   "cell_type": "markdown",
   "metadata": {},
   "source": [
    "Blind Lemon Jefferson, Got The Blues"
   ]
  },
  {
   "cell_type": "code",
   "execution_count": 65,
   "metadata": {
    "collapsed": false
   },
   "outputs": [],
   "source": [
    "path = trackid_to_filepath('TRBFMCN128F423625D')\n",
    "h5 = GETTERS.open_h5_file_read(path)\n",
    "timbre = GETTERS.get_segments_timbre(h5)\n",
    "h5.close()"
   ]
  },
  {
   "cell_type": "code",
   "execution_count": 66,
   "metadata": {
    "collapsed": false
   },
   "outputs": [
    {
     "name": "stdout",
     "output_type": "stream",
     "text": [
      "(12, 12)\n"
     ]
    },
    {
     "data": {
      "text/html": [
       "<div style=\"max-height:1000px;max-width:1500px;overflow:auto;\">\n",
       "<table border=\"1\" class=\"dataframe\">\n",
       "  <thead>\n",
       "    <tr style=\"text-align: right;\">\n",
       "      <th></th>\n",
       "      <th>timbre_avg1_loudness</th>\n",
       "      <th>timbre_avg2_brightness</th>\n",
       "      <th>timbre_avg3_flatness</th>\n",
       "      <th>timbre_avg4_attack</th>\n",
       "      <th>timbre_avg5</th>\n",
       "      <th>timbre_avg6</th>\n",
       "      <th>timbre_avg7</th>\n",
       "      <th>timbre_avg8</th>\n",
       "      <th>timbre_avg9</th>\n",
       "      <th>timbre_avg10</th>\n",
       "      <th>timbre_avg11</th>\n",
       "      <th>timbre_avg12</th>\n",
       "    </tr>\n",
       "  </thead>\n",
       "  <tbody>\n",
       "    <tr>\n",
       "      <th>timbre_avg1_loudness</th>\n",
       "      <td>  13.950435</td>\n",
       "      <td> -106.186348</td>\n",
       "      <td>  103.197243</td>\n",
       "      <td>   45.481994</td>\n",
       "      <td>   0.983189</td>\n",
       "      <td>  46.672694</td>\n",
       "      <td>  13.244442</td>\n",
       "      <td>   8.790600</td>\n",
       "      <td>   3.030430</td>\n",
       "      <td>   3.788196</td>\n",
       "      <td> -10.168937</td>\n",
       "      <td> -13.512756</td>\n",
       "    </tr>\n",
       "    <tr>\n",
       "      <th>timbre_avg2_brightness</th>\n",
       "      <td>-106.186348</td>\n",
       "      <td> 1552.246136</td>\n",
       "      <td> -380.751116</td>\n",
       "      <td> -210.898442</td>\n",
       "      <td>-506.756755</td>\n",
       "      <td>-236.996437</td>\n",
       "      <td>   4.000217</td>\n",
       "      <td>-145.309555</td>\n",
       "      <td>-131.621418</td>\n",
       "      <td>-102.074129</td>\n",
       "      <td>  17.275475</td>\n",
       "      <td> -40.263819</td>\n",
       "    </tr>\n",
       "    <tr>\n",
       "      <th>timbre_avg3_flatness</th>\n",
       "      <td> 103.197243</td>\n",
       "      <td> -380.751116</td>\n",
       "      <td> 1622.115632</td>\n",
       "      <td>  396.968241</td>\n",
       "      <td>  16.118980</td>\n",
       "      <td> 514.379704</td>\n",
       "      <td> 539.299178</td>\n",
       "      <td> -55.400931</td>\n",
       "      <td> -51.778912</td>\n",
       "      <td>  81.555749</td>\n",
       "      <td>-171.015033</td>\n",
       "      <td>-342.217142</td>\n",
       "    </tr>\n",
       "    <tr>\n",
       "      <th>timbre_avg4_attack</th>\n",
       "      <td>  45.481994</td>\n",
       "      <td> -210.898442</td>\n",
       "      <td>  396.968241</td>\n",
       "      <td> 1008.457850</td>\n",
       "      <td> -10.310300</td>\n",
       "      <td>  24.828029</td>\n",
       "      <td> 104.040068</td>\n",
       "      <td> 455.120136</td>\n",
       "      <td>  52.335601</td>\n",
       "      <td>-120.700319</td>\n",
       "      <td>-172.353592</td>\n",
       "      <td>-103.371923</td>\n",
       "    </tr>\n",
       "    <tr>\n",
       "      <th>timbre_avg5</th>\n",
       "      <td>   0.983189</td>\n",
       "      <td> -506.756755</td>\n",
       "      <td>   16.118980</td>\n",
       "      <td>  -10.310300</td>\n",
       "      <td> 785.880503</td>\n",
       "      <td> -70.416653</td>\n",
       "      <td> 184.300372</td>\n",
       "      <td>  55.348780</td>\n",
       "      <td> 385.595531</td>\n",
       "      <td> 190.869584</td>\n",
       "      <td> -36.853908</td>\n",
       "      <td> 101.223232</td>\n",
       "    </tr>\n",
       "    <tr>\n",
       "      <th>timbre_avg6</th>\n",
       "      <td>  46.672694</td>\n",
       "      <td> -236.996437</td>\n",
       "      <td>  514.379704</td>\n",
       "      <td>   24.828029</td>\n",
       "      <td> -70.416653</td>\n",
       "      <td> 641.108707</td>\n",
       "      <td> 101.348142</td>\n",
       "      <td>  13.933532</td>\n",
       "      <td>-137.019132</td>\n",
       "      <td> 188.522922</td>\n",
       "      <td>-186.830168</td>\n",
       "      <td>-164.926703</td>\n",
       "    </tr>\n",
       "    <tr>\n",
       "      <th>timbre_avg7</th>\n",
       "      <td>  13.244442</td>\n",
       "      <td>    4.000217</td>\n",
       "      <td>  539.299178</td>\n",
       "      <td>  104.040068</td>\n",
       "      <td> 184.300372</td>\n",
       "      <td> 101.348142</td>\n",
       "      <td> 559.296259</td>\n",
       "      <td>   9.428276</td>\n",
       "      <td>  91.721396</td>\n",
       "      <td> 117.138678</td>\n",
       "      <td> -62.847153</td>\n",
       "      <td>  -9.311587</td>\n",
       "    </tr>\n",
       "    <tr>\n",
       "      <th>timbre_avg8</th>\n",
       "      <td>   8.790600</td>\n",
       "      <td> -145.309555</td>\n",
       "      <td>  -55.400931</td>\n",
       "      <td>  455.120136</td>\n",
       "      <td>  55.348780</td>\n",
       "      <td>  13.933532</td>\n",
       "      <td>   9.428276</td>\n",
       "      <td> 416.149417</td>\n",
       "      <td>  25.467470</td>\n",
       "      <td> -39.409811</td>\n",
       "      <td> -70.997883</td>\n",
       "      <td>  13.795578</td>\n",
       "    </tr>\n",
       "    <tr>\n",
       "      <th>timbre_avg9</th>\n",
       "      <td>   3.030430</td>\n",
       "      <td> -131.621418</td>\n",
       "      <td>  -51.778912</td>\n",
       "      <td>   52.335601</td>\n",
       "      <td> 385.595531</td>\n",
       "      <td>-137.019132</td>\n",
       "      <td>  91.721396</td>\n",
       "      <td>  25.467470</td>\n",
       "      <td> 500.509609</td>\n",
       "      <td> 103.735208</td>\n",
       "      <td> -51.871608</td>\n",
       "      <td>  48.860842</td>\n",
       "    </tr>\n",
       "    <tr>\n",
       "      <th>timbre_avg10</th>\n",
       "      <td>   3.788196</td>\n",
       "      <td> -102.074129</td>\n",
       "      <td>   81.555749</td>\n",
       "      <td> -120.700319</td>\n",
       "      <td> 190.869584</td>\n",
       "      <td> 188.522922</td>\n",
       "      <td> 117.138678</td>\n",
       "      <td> -39.409811</td>\n",
       "      <td> 103.735208</td>\n",
       "      <td> 227.162875</td>\n",
       "      <td> -58.314995</td>\n",
       "      <td>  -4.042818</td>\n",
       "    </tr>\n",
       "    <tr>\n",
       "      <th>timbre_avg11</th>\n",
       "      <td> -10.168937</td>\n",
       "      <td>   17.275475</td>\n",
       "      <td> -171.015033</td>\n",
       "      <td> -172.353592</td>\n",
       "      <td> -36.853908</td>\n",
       "      <td>-186.830168</td>\n",
       "      <td> -62.847153</td>\n",
       "      <td> -70.997883</td>\n",
       "      <td> -51.871608</td>\n",
       "      <td> -58.314995</td>\n",
       "      <td> 243.908295</td>\n",
       "      <td>  89.852723</td>\n",
       "    </tr>\n",
       "    <tr>\n",
       "      <th>timbre_avg12</th>\n",
       "      <td> -13.512756</td>\n",
       "      <td>  -40.263819</td>\n",
       "      <td> -342.217142</td>\n",
       "      <td> -103.371923</td>\n",
       "      <td> 101.223232</td>\n",
       "      <td>-164.926703</td>\n",
       "      <td>  -9.311587</td>\n",
       "      <td>  13.795578</td>\n",
       "      <td>  48.860842</td>\n",
       "      <td>  -4.042818</td>\n",
       "      <td>  89.852723</td>\n",
       "      <td> 309.883173</td>\n",
       "    </tr>\n",
       "  </tbody>\n",
       "</table>\n",
       "</div>"
      ],
      "text/plain": [
       "                        timbre_avg1_loudness  timbre_avg2_brightness  \\\n",
       "timbre_avg1_loudness               13.950435             -106.186348   \n",
       "timbre_avg2_brightness           -106.186348             1552.246136   \n",
       "timbre_avg3_flatness              103.197243             -380.751116   \n",
       "timbre_avg4_attack                 45.481994             -210.898442   \n",
       "timbre_avg5                         0.983189             -506.756755   \n",
       "timbre_avg6                        46.672694             -236.996437   \n",
       "timbre_avg7                        13.244442                4.000217   \n",
       "timbre_avg8                         8.790600             -145.309555   \n",
       "timbre_avg9                         3.030430             -131.621418   \n",
       "timbre_avg10                        3.788196             -102.074129   \n",
       "timbre_avg11                      -10.168937               17.275475   \n",
       "timbre_avg12                      -13.512756              -40.263819   \n",
       "\n",
       "                        timbre_avg3_flatness  timbre_avg4_attack  timbre_avg5  \\\n",
       "timbre_avg1_loudness              103.197243           45.481994     0.983189   \n",
       "timbre_avg2_brightness           -380.751116         -210.898442  -506.756755   \n",
       "timbre_avg3_flatness             1622.115632          396.968241    16.118980   \n",
       "timbre_avg4_attack                396.968241         1008.457850   -10.310300   \n",
       "timbre_avg5                        16.118980          -10.310300   785.880503   \n",
       "timbre_avg6                       514.379704           24.828029   -70.416653   \n",
       "timbre_avg7                       539.299178          104.040068   184.300372   \n",
       "timbre_avg8                       -55.400931          455.120136    55.348780   \n",
       "timbre_avg9                       -51.778912           52.335601   385.595531   \n",
       "timbre_avg10                       81.555749         -120.700319   190.869584   \n",
       "timbre_avg11                     -171.015033         -172.353592   -36.853908   \n",
       "timbre_avg12                     -342.217142         -103.371923   101.223232   \n",
       "\n",
       "                        timbre_avg6  timbre_avg7  timbre_avg8  timbre_avg9  \\\n",
       "timbre_avg1_loudness      46.672694    13.244442     8.790600     3.030430   \n",
       "timbre_avg2_brightness  -236.996437     4.000217  -145.309555  -131.621418   \n",
       "timbre_avg3_flatness     514.379704   539.299178   -55.400931   -51.778912   \n",
       "timbre_avg4_attack        24.828029   104.040068   455.120136    52.335601   \n",
       "timbre_avg5              -70.416653   184.300372    55.348780   385.595531   \n",
       "timbre_avg6              641.108707   101.348142    13.933532  -137.019132   \n",
       "timbre_avg7              101.348142   559.296259     9.428276    91.721396   \n",
       "timbre_avg8               13.933532     9.428276   416.149417    25.467470   \n",
       "timbre_avg9             -137.019132    91.721396    25.467470   500.509609   \n",
       "timbre_avg10             188.522922   117.138678   -39.409811   103.735208   \n",
       "timbre_avg11            -186.830168   -62.847153   -70.997883   -51.871608   \n",
       "timbre_avg12            -164.926703    -9.311587    13.795578    48.860842   \n",
       "\n",
       "                        timbre_avg10  timbre_avg11  timbre_avg12  \n",
       "timbre_avg1_loudness        3.788196    -10.168937    -13.512756  \n",
       "timbre_avg2_brightness   -102.074129     17.275475    -40.263819  \n",
       "timbre_avg3_flatness       81.555749   -171.015033   -342.217142  \n",
       "timbre_avg4_attack       -120.700319   -172.353592   -103.371923  \n",
       "timbre_avg5               190.869584    -36.853908    101.223232  \n",
       "timbre_avg6               188.522922   -186.830168   -164.926703  \n",
       "timbre_avg7               117.138678    -62.847153     -9.311587  \n",
       "timbre_avg8               -39.409811    -70.997883     13.795578  \n",
       "timbre_avg9               103.735208    -51.871608     48.860842  \n",
       "timbre_avg10              227.162875    -58.314995     -4.042818  \n",
       "timbre_avg11              -58.314995    243.908295     89.852723  \n",
       "timbre_avg12               -4.042818     89.852723    309.883173  "
      ]
     },
     "execution_count": 66,
     "metadata": {},
     "output_type": "execute_result"
    }
   ],
   "source": [
    "Cov = np.cov(timbre.T)\n",
    "print Cov.shape\n",
    "\n",
    "timbre_fields=['timbre_avg1_loudness',\n",
    "              'timbre_avg2_brightness',\n",
    "              'timbre_avg3_flatness',\n",
    "              'timbre_avg4_attack',\n",
    "              'timbre_avg5',\n",
    "              'timbre_avg6',\n",
    "              'timbre_avg7',\n",
    "              'timbre_avg8',\n",
    "              'timbre_avg9',\n",
    "              'timbre_avg10',\n",
    "              'timbre_avg11',\n",
    "              'timbre_avg12']\n",
    "DataFrame(Cov, index=timbre_fieldslds, columns=timbre_fields)"
   ]
  },
  {
   "cell_type": "code",
   "execution_count": null,
   "metadata": {
    "collapsed": true
   },
   "outputs": [],
   "source": []
  }
 ],
 "metadata": {
  "kernelspec": {
   "display_name": "Python 2",
   "language": "python",
   "name": "python2"
  },
  "language_info": {
   "codemirror_mode": {
    "name": "ipython",
    "version": 2
   },
   "file_extension": ".py",
   "mimetype": "text/x-python",
   "name": "python",
   "nbconvert_exporter": "python",
   "pygments_lexer": "ipython2",
   "version": "2.7.9"
  }
 },
 "nbformat": 4,
 "nbformat_minor": 0
}
